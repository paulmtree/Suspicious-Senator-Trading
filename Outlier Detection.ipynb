{
 "cells": [
  {
   "cell_type": "markdown",
   "metadata": {},
   "source": [
    "# Outlier Detection"
   ]
  },
  {
   "cell_type": "markdown",
   "metadata": {},
   "source": [
    "## Statistical Analysis"
   ]
  },
  {
   "cell_type": "code",
   "execution_count": 1,
   "metadata": {},
   "outputs": [
    {
     "name": "stdout",
     "output_type": "stream",
     "text": [
      "4474 entries\n",
      "Index(['Unnamed: 0', 'owner', 'asset_description', 'asset_type', 'type',\n",
      "       'amount', 'comment', 'senator', 'ptr_link', 'id', 'min_amount',\n",
      "       'max_amount', 'Open', 'High', 'Low', 'Close', 'Volume', 'Adjusted',\n",
      "       'Error_message_x', 'transaction_date', 'ticker', 'o_c_perc', 'h_l_perc',\n",
      "       'Error_message_y', '1_Week_O', '1_Week_C', '1_Week_H', '1_Week_L',\n",
      "       '1_Week_V', '1_Week_A', '1_Week_o_p', '1_Week_c_p', 'Error_message',\n",
      "       '1_Month_O', '1_Month_C', '1_Month_H', '1_Month_L', '1_Month_V',\n",
      "       '1_Month_A', '1_Month_o_p', '1_Month_c_p'],\n",
      "      dtype='object')\n"
     ]
    }
   ],
   "source": [
    "import pandas as pd\n",
    "from sklearn.ensemble import IsolationForest\n",
    "import numpy as np\n",
    "sen_df = pd.read_csv(\"Stocks/sen_df_price.csv\")\n",
    "print(str(len(sen_df)) + \" entries\")\n",
    "print(sen_df.columns)"
   ]
  },
  {
   "cell_type": "markdown",
   "metadata": {},
   "source": [
    "First we will examine the percentage returns. An important note is that the percentage is multiplied by -1 if it is a sale. That way if the stock plummets after they sell, it counts as them making that percentage. <br>  - __high_low_day__: the % change between the highest price of the transaction day and the lowest price. <br>  - __open_close_day__: the % change between the open price and the close price. <br>  - __open_open_week__: the % change between the open price of the transaction date and the open price a week later <br> - __close_close_week__: the % change between the closing price of the transaction date and the closing price a week later"
   ]
  },
  {
   "cell_type": "code",
   "execution_count": 2,
   "metadata": {},
   "outputs": [
    {
     "data": {
      "text/plain": [
       "<Figure size 640x480 with 1 Axes>"
      ]
     },
     "metadata": {},
     "output_type": "display_data"
    },
    {
     "name": "stdout",
     "output_type": "stream",
     "text": [
      "high_low_day IQR: 3.9674%\n",
      "high_low_day Median: 0.3715%\n",
      "high_low_day Mean: 0.3350%\n",
      "\n",
      "open_close_day IQR: 1.5568%\n",
      "open_close_day Median: -0.0650%\n",
      "open_close_day Mean: -0.0686%\n",
      "\n",
      "open_open_week IQR: 3.9554%\n",
      "open_open_week Median: -0.0502%\n",
      "open_open_week Mean: -0.1386%\n",
      "\n",
      "close_close_week IQR: 4.0464%\n",
      "close_close_week Median: 0.0000%\n",
      "close_close_week Mean: -0.0284%\n",
      "\n",
      "open_open_month IQR: 8.2295%\n",
      "open_open_month Median: -0.0602%\n",
      "open_open_month Mean: 0.0863%\n",
      "\n",
      "close_close_month IQR: 8.2950%\n",
      "close_close_month Median: -0.1530%\n",
      "close_close_month Mean: 0.1529%\n",
      "\n"
     ]
    }
   ],
   "source": [
    "import seaborn as sns\n",
    "import matplotlib.pyplot as plt\n",
    "from scipy.stats import iqr\n",
    "import statistics as stat\n",
    "import matplotlib.ticker as mtick\n",
    "\n",
    "df_box = pd.DataFrame({\"high_low_day\": sen_df.h_l_perc,\n",
    "                       \"open_close_day\": sen_df.o_c_perc, \n",
    "                       \"open_open_week\": sen_df[\"1_Week_o_p\"], \n",
    "                       \"close_close_week\": sen_df[\"1_Week_c_p\"], \n",
    "                       \"open_open_month\": sen_df[\"1_Month_o_p\"], \n",
    "                       \"close_close_month\": sen_df['1_Month_c_p']})\n",
    "\n",
    "sns.boxplot(x=\"variable\", y=\"value\", data=pd.melt(df_box))\n",
    "plt.gca().set_yticklabels(['{:.0f}%'.format(x*100) for x in plt.gca().get_yticks()]) \n",
    "plt.xticks(rotation=45)\n",
    "plt.xlabel('Types of Percentages')\n",
    "plt.ylabel('Percentage Change')\n",
    "plt.suptitle(\"BoxPlot of Percentage Change Over Different Durations\")\n",
    "plt.show()\n",
    "cols = df_box.columns\n",
    "for col in cols:\n",
    "    print(str(col) + \" IQR: \" + str(\"{:.4%}\".format(iqr(df_box[col]))))\n",
    "    print(str(col) + \" Median: \" + str(\"{:.4%}\".format(stat.median(df_box[col]))))\n",
    "    print(str(col) + \" Mean: \" + str(\"{:.4%}\\n\".format(stat.mean(df_box[col]))))"
   ]
  },
  {
   "cell_type": "markdown",
   "metadata": {},
   "source": [
    "Interestingly enough, the median is significantly lower than  mean for the month long stock duration, indicating the distribution is strongly skewed to higher returns in some measurement cases. "
   ]
  },
  {
   "cell_type": "code",
   "execution_count": 3,
   "metadata": {},
   "outputs": [
    {
     "data": {
      "image/png": "[encoded data removed]",
      "text/plain": [
       "<Figure size 432x288 with 1 Axes>"
      ]
     },
     "metadata": {
      "needs_background": "light"
     },
     "output_type": "display_data"
    }
   ],
   "source": [
    "sns.boxplot(x=\"variable\", y=\"value\", data=pd.melt(df_box))\n",
    "plt.ylim([-.15, .15])\n",
    "plt.gca().set_yticklabels(['{:.0f}%'.format(x*100) for x in plt.gca().get_yticks()]) \n",
    "plt.xticks(rotation=45)\n",
    "plt.xlabel('Types of Percentages')\n",
    "plt.ylabel('Percentage Change')\n",
    "plt.suptitle(\"BoxPlot of Percentage Change Over Different Durations Zoomed In\")\n",
    "plt.show()"
   ]
  },
  {
   "cell_type": "markdown",
   "metadata": {},
   "source": [
    "From these box plots we can see the range of transaction returns varies greatly from the mean and IQR values. One potential measure of suspicious is if a senator makes many trades in the 4th quartile range. \n",
    "<br> We can also examine the owner of the top trades for the different measures."
   ]
  },
  {
   "cell_type": "code",
   "execution_count": 4,
   "metadata": {},
   "outputs": [
    {
     "name": "stdout",
     "output_type": "stream",
     "text": [
      "David A Perdue , Jr    50\n",
      "Pat Roberts             9\n",
      "James M Inhofe          8\n",
      "Susan M Collins         6\n",
      "Patrick J Toomey        6\n",
      "Kelly Loeffler          4\n",
      "John Hoeven             4\n",
      "John F Reed             3\n",
      "Shelley M Capito        2\n",
      "Sheldon Whitehouse      2\n",
      "Jerry Moran,            2\n",
      "Angus S King, Jr.       2\n",
      "Thomas R Carper         1\n",
      "William Cassidy         1\n",
      "Name: senator, dtype: int64\n",
      "Pat Roberts            19\n",
      "Sheldon Whitehouse     16\n",
      "Susan M Collins        12\n",
      "Kelly Loeffler         12\n",
      "David A Perdue , Jr    11\n",
      "James M Inhofe          7\n",
      "Shelley M Capito        5\n",
      "Jerry Moran,            4\n",
      "John F Reed             3\n",
      "John Hoeven             3\n",
      "Patrick J Toomey        3\n",
      "Angus S King, Jr.       2\n",
      "Thomas R Tillis         2\n",
      "Gary C Peters           1\n",
      "Name: senator, dtype: int64\n",
      "Pat Roberts            19\n",
      "Sheldon Whitehouse     15\n",
      "Susan M Collins        12\n",
      "Kelly Loeffler         12\n",
      "David A Perdue , Jr    12\n",
      "James M Inhofe          6\n",
      "Shelley M Capito        5\n",
      "Jerry Moran,            4\n",
      "Patrick J Toomey        4\n",
      "John F Reed             3\n",
      "John Hoeven             3\n",
      "Angus S King, Jr.       2\n",
      "Thomas R Tillis         2\n",
      "Gary C Peters           1\n",
      "Name: senator, dtype: int64\n"
     ]
    }
   ],
   "source": [
    "print(sen_df.nlargest(100,'o_c_perc').senator.value_counts())\n",
    "print(sen_df.nlargest(100,'1_Week_C').senator.value_counts())\n",
    "print(sen_df.nlargest(100,'1_Month_C').senator.value_counts())\n",
    "\n",
    "#sen_df.nlargest(10,'')"
   ]
  },
  {
   "cell_type": "markdown",
   "metadata": {},
   "source": [
    "From these 3 tables, we notice that David A Perdue Jr. has many of the highest return trades on transaction day, but Pat Roberts, Sheldon Whitehouse, Susan M Collins, and Kelly Loeffler have many high return trades after a week and a month. Note that David A Perdue has the highest number of transactions by far, so his activity is perhaps not unusual. Below are each of their total transactions"
   ]
  },
  {
   "cell_type": "code",
   "execution_count": 5,
   "metadata": {},
   "outputs": [
    {
     "name": "stdout",
     "output_type": "stream",
     "text": [
      "David A Perdue , Jr: 1726\n",
      "Pat Roberts: 249\n",
      "Sheldon Whitehouse: 524\n",
      "Susan M Collins: 389\n",
      "Kelly Loeffler: 83\n"
     ]
    }
   ],
   "source": [
    "print(\"David A Perdue , Jr: \"+str(len(sen_df.loc[sen_df.senator == \"David A Perdue , Jr\"])))\n",
    "print(\"Pat Roberts: \"+str(len(sen_df.loc[sen_df.senator == \"Pat Roberts\"])))\n",
    "print(\"Sheldon Whitehouse: \"+str(len(sen_df.loc[sen_df.senator == \"Sheldon Whitehouse\"])))\n",
    "print(\"Susan M Collins: \"+str(len(sen_df.loc[sen_df.senator == \"Susan M Collins\"])))\n",
    "print(\"Kelly Loeffler: \"+str(len(sen_df.loc[sen_df.senator == \"Kelly Loeffler\"])))\n",
    "     "
   ]
  },
  {
   "cell_type": "markdown",
   "metadata": {},
   "source": [
    "As you can see, everyone else's number of trades are much lower than David's. Kelly Loeffler in particular has nearly 15% of her trades in the top 2.2% of all senator trades. "
   ]
  },
  {
   "cell_type": "markdown",
   "metadata": {},
   "source": [
    "<br> We will now add a column labeling the trade's quartile to get a better overall sense of the data."
   ]
  },
  {
   "cell_type": "code",
   "execution_count": 6,
   "metadata": {},
   "outputs": [],
   "source": [
    "cols = list([\"h_l_perc\", \"o_c_perc\", \"1_Week_o_p\", \"1_Week_c_p\", \"1_Month_o_p\", \"1_Month_c_p\"])\n",
    "for col in cols:\n",
    "    sen_df[str(col) + \"_q\"] = pd.qcut(sen_df[col], 4, labels=False)\n",
    "    sen_df[str(col) + \"_q\"] = sen_df[str(col) + \"_q\"] + 1\n",
    "cols_q = [s + \"_q\" for s in cols]    \n",
    "\n",
    "sen_df_4q = sen_df[sen_df[\"o_c_perc_q\"] == 4]\n",
    "sen_q = pd.DataFrame()\n",
    "sen_q.index.name = 'Senators with 4th Quartile Trades'\n",
    "sen_q['total_trans'] = sen_df.senator.value_counts()\n",
    "\n",
    "for i in range(len(cols_q)):\n",
    "    sen_df_4q = sen_df[sen_df[str(cols_q[i])] == 4]\n",
    "    sen_q[\"n4q_\" + str(cols[i])] = sen_df_4q.senator.value_counts()\n",
    "    sen_q[\"n4q_\" + str(cols[i]) + '/total_trans'] = sen_q[\"n4q_\"+ str(cols[i])]/sen_q['total_trans']\n",
    "#sen_df.head()"
   ]
  },
  {
   "cell_type": "markdown",
   "metadata": {},
   "source": [
    "Here the terminalogy will be slightly confusing. Essentially we are taking the 6 types of trades from before and counting the number of times a Senator makes a trade in the top quartile, then comparing that to their overall number of trades. We would expect that on average, 25% of trades for each senator would be in the top quartile. Below is a key: <br> <br> - __n4q__: Number of 4th quartile trades. <br> - __h_l_perc__: High to Low percentage difference. o: Open, c: Close <br> - __1_Week_o_p__: 1 Week from transaction date percentage from Open to Open. <br> - __n4q_h_l_perc__: Number of times they have a 4th quartile entry in High to Low percentage. <br> - __n4q_h_l_perc/total_trans__: Fraction representing number of times they have 4th quartile entry in High to Low percentage divided by total number of transactions."
   ]
  },
  {
   "cell_type": "code",
   "execution_count": 7,
   "metadata": {},
   "outputs": [
    {
     "data": {
      "text/html": [
       "<div>\n",
       "<style scoped>\n",
       "    .dataframe tbody tr th:only-of-type {\n",
       "        vertical-align: middle;\n",
       "    }\n",
       "\n",
       "    .dataframe tbody tr th {\n",
       "        vertical-align: top;\n",
       "    }\n",
       "\n",
       "    .dataframe thead th {\n",
       "        text-align: right;\n",
       "    }\n",
       "</style>\n",
       "<table border=\"1\" class=\"dataframe\">\n",
       "  <thead>\n",
       "    <tr style=\"text-align: right;\">\n",
       "      <th></th>\n",
       "      <th>total_trans</th>\n",
       "      <th>n4q_h_l_perc</th>\n",
       "      <th>n4q_h_l_perc/total_trans</th>\n",
       "      <th>n4q_o_c_perc</th>\n",
       "      <th>n4q_o_c_perc/total_trans</th>\n",
       "      <th>n4q_1_Week_o_p</th>\n",
       "      <th>n4q_1_Week_o_p/total_trans</th>\n",
       "      <th>n4q_1_Week_c_p</th>\n",
       "      <th>n4q_1_Week_c_p/total_trans</th>\n",
       "      <th>n4q_1_Month_o_p</th>\n",
       "      <th>n4q_1_Month_o_p/total_trans</th>\n",
       "      <th>n4q_1_Month_c_p</th>\n",
       "      <th>n4q_1_Month_c_p/total_trans</th>\n",
       "    </tr>\n",
       "  </thead>\n",
       "  <tbody>\n",
       "    <tr>\n",
       "      <th>David A Perdue , Jr</th>\n",
       "      <td>1726</td>\n",
       "      <td>638.0</td>\n",
       "      <td>0.369641</td>\n",
       "      <td>488.0</td>\n",
       "      <td>0.282735</td>\n",
       "      <td>503.0</td>\n",
       "      <td>0.291425</td>\n",
       "      <td>524.0</td>\n",
       "      <td>0.303592</td>\n",
       "      <td>507.0</td>\n",
       "      <td>0.293743</td>\n",
       "      <td>498.0</td>\n",
       "      <td>0.288528</td>\n",
       "    </tr>\n",
       "    <tr>\n",
       "      <th>Sheldon Whitehouse</th>\n",
       "      <td>524</td>\n",
       "      <td>91.0</td>\n",
       "      <td>0.173664</td>\n",
       "      <td>124.0</td>\n",
       "      <td>0.236641</td>\n",
       "      <td>118.0</td>\n",
       "      <td>0.225191</td>\n",
       "      <td>110.0</td>\n",
       "      <td>0.209924</td>\n",
       "      <td>100.0</td>\n",
       "      <td>0.190840</td>\n",
       "      <td>107.0</td>\n",
       "      <td>0.204198</td>\n",
       "    </tr>\n",
       "    <tr>\n",
       "      <th>Susan M Collins</th>\n",
       "      <td>389</td>\n",
       "      <td>43.0</td>\n",
       "      <td>0.110540</td>\n",
       "      <td>81.0</td>\n",
       "      <td>0.208226</td>\n",
       "      <td>82.0</td>\n",
       "      <td>0.210797</td>\n",
       "      <td>75.0</td>\n",
       "      <td>0.192802</td>\n",
       "      <td>69.0</td>\n",
       "      <td>0.177378</td>\n",
       "      <td>65.0</td>\n",
       "      <td>0.167095</td>\n",
       "    </tr>\n",
       "    <tr>\n",
       "      <th>Shelley M Capito</th>\n",
       "      <td>368</td>\n",
       "      <td>79.0</td>\n",
       "      <td>0.214674</td>\n",
       "      <td>65.0</td>\n",
       "      <td>0.176630</td>\n",
       "      <td>56.0</td>\n",
       "      <td>0.152174</td>\n",
       "      <td>59.0</td>\n",
       "      <td>0.160326</td>\n",
       "      <td>78.0</td>\n",
       "      <td>0.211957</td>\n",
       "      <td>79.0</td>\n",
       "      <td>0.214674</td>\n",
       "    </tr>\n",
       "    <tr>\n",
       "      <th>Pat Roberts</th>\n",
       "      <td>249</td>\n",
       "      <td>66.0</td>\n",
       "      <td>0.265060</td>\n",
       "      <td>64.0</td>\n",
       "      <td>0.257028</td>\n",
       "      <td>58.0</td>\n",
       "      <td>0.232932</td>\n",
       "      <td>62.0</td>\n",
       "      <td>0.248996</td>\n",
       "      <td>72.0</td>\n",
       "      <td>0.289157</td>\n",
       "      <td>78.0</td>\n",
       "      <td>0.313253</td>\n",
       "    </tr>\n",
       "  </tbody>\n",
       "</table>\n",
       "</div>"
      ],
      "text/plain": [
       "                     total_trans  n4q_h_l_perc  n4q_h_l_perc/total_trans  \\\n",
       "David A Perdue , Jr         1726         638.0                  0.369641   \n",
       "Sheldon Whitehouse           524          91.0                  0.173664   \n",
       "Susan M Collins              389          43.0                  0.110540   \n",
       "Shelley M Capito             368          79.0                  0.214674   \n",
       "Pat Roberts                  249          66.0                  0.265060   \n",
       "\n",
       "                     n4q_o_c_perc  n4q_o_c_perc/total_trans  n4q_1_Week_o_p  \\\n",
       "David A Perdue , Jr         488.0                  0.282735           503.0   \n",
       "Sheldon Whitehouse          124.0                  0.236641           118.0   \n",
       "Susan M Collins              81.0                  0.208226            82.0   \n",
       "Shelley M Capito             65.0                  0.176630            56.0   \n",
       "Pat Roberts                  64.0                  0.257028            58.0   \n",
       "\n",
       "                     n4q_1_Week_o_p/total_trans  n4q_1_Week_c_p  \\\n",
       "David A Perdue , Jr                    0.291425           524.0   \n",
       "Sheldon Whitehouse                     0.225191           110.0   \n",
       "Susan M Collins                        0.210797            75.0   \n",
       "Shelley M Capito                       0.152174            59.0   \n",
       "Pat Roberts                            0.232932            62.0   \n",
       "\n",
       "                     n4q_1_Week_c_p/total_trans  n4q_1_Month_o_p  \\\n",
       "David A Perdue , Jr                    0.303592            507.0   \n",
       "Sheldon Whitehouse                     0.209924            100.0   \n",
       "Susan M Collins                        0.192802             69.0   \n",
       "Shelley M Capito                       0.160326             78.0   \n",
       "Pat Roberts                            0.248996             72.0   \n",
       "\n",
       "                     n4q_1_Month_o_p/total_trans  n4q_1_Month_c_p  \\\n",
       "David A Perdue , Jr                     0.293743            498.0   \n",
       "Sheldon Whitehouse                      0.190840            107.0   \n",
       "Susan M Collins                         0.177378             65.0   \n",
       "Shelley M Capito                        0.211957             79.0   \n",
       "Pat Roberts                             0.289157             78.0   \n",
       "\n",
       "                     n4q_1_Month_c_p/total_trans  \n",
       "David A Perdue , Jr                     0.288528  \n",
       "Sheldon Whitehouse                      0.204198  \n",
       "Susan M Collins                         0.167095  \n",
       "Shelley M Capito                        0.214674  \n",
       "Pat Roberts                             0.313253  "
      ]
     },
     "execution_count": 7,
     "metadata": {},
     "output_type": "execute_result"
    }
   ],
   "source": [
    "sen_q.head()"
   ]
  },
  {
   "cell_type": "markdown",
   "metadata": {},
   "source": []
  },
  {
   "cell_type": "code",
   "execution_count": 8,
   "metadata": {},
   "outputs": [
    {
     "data": {
      "text/html": [
       "<div>\n",
       "<style scoped>\n",
       "    .dataframe tbody tr th:only-of-type {\n",
       "        vertical-align: middle;\n",
       "    }\n",
       "\n",
       "    .dataframe tbody tr th {\n",
       "        vertical-align: top;\n",
       "    }\n",
       "\n",
       "    .dataframe thead th {\n",
       "        text-align: right;\n",
       "    }\n",
       "</style>\n",
       "<table border=\"1\" class=\"dataframe\">\n",
       "  <thead>\n",
       "    <tr style=\"text-align: right;\">\n",
       "      <th></th>\n",
       "      <th>4th Q Transaction Day Percentage</th>\n",
       "      <th>total_trans</th>\n",
       "    </tr>\n",
       "  </thead>\n",
       "  <tbody>\n",
       "    <tr>\n",
       "      <th>Roger F Wicker</th>\n",
       "      <td>1.000000</td>\n",
       "      <td>1</td>\n",
       "    </tr>\n",
       "    <tr>\n",
       "      <th>Roy Blunt</th>\n",
       "      <td>1.000000</td>\n",
       "      <td>1</td>\n",
       "    </tr>\n",
       "    <tr>\n",
       "      <th>Michael  B Enzi</th>\n",
       "      <td>1.000000</td>\n",
       "      <td>1</td>\n",
       "    </tr>\n",
       "    <tr>\n",
       "      <th>Ladda Tammy Duckworth</th>\n",
       "      <td>0.666667</td>\n",
       "      <td>3</td>\n",
       "    </tr>\n",
       "    <tr>\n",
       "      <th>Christopher A Coons</th>\n",
       "      <td>0.500000</td>\n",
       "      <td>4</td>\n",
       "    </tr>\n",
       "    <tr>\n",
       "      <th>Michael F Bennet</th>\n",
       "      <td>0.500000</td>\n",
       "      <td>2</td>\n",
       "    </tr>\n",
       "    <tr>\n",
       "      <th>Gary C Peters</th>\n",
       "      <td>0.476190</td>\n",
       "      <td>21</td>\n",
       "    </tr>\n",
       "    <tr>\n",
       "      <th>Jerry Moran,</th>\n",
       "      <td>0.413793</td>\n",
       "      <td>87</td>\n",
       "    </tr>\n",
       "    <tr>\n",
       "      <th>Daniel S Sullivan</th>\n",
       "      <td>0.411765</td>\n",
       "      <td>17</td>\n",
       "    </tr>\n",
       "    <tr>\n",
       "      <th>Kelly Loeffler</th>\n",
       "      <td>0.373494</td>\n",
       "      <td>83</td>\n",
       "    </tr>\n",
       "  </tbody>\n",
       "</table>\n",
       "</div>"
      ],
      "text/plain": [
       "                       4th Q Transaction Day Percentage  total_trans\n",
       "Roger F Wicker                                 1.000000            1\n",
       "Roy Blunt                                      1.000000            1\n",
       "Michael  B Enzi                                1.000000            1\n",
       "Ladda Tammy Duckworth                          0.666667            3\n",
       "Christopher A Coons                            0.500000            4\n",
       "Michael F Bennet                               0.500000            2\n",
       "Gary C Peters                                  0.476190           21\n",
       "Jerry Moran,                                   0.413793           87\n",
       "Daniel S Sullivan                              0.411765           17\n",
       "Kelly Loeffler                                 0.373494           83"
      ]
     },
     "execution_count": 8,
     "metadata": {},
     "output_type": "execute_result"
    }
   ],
   "source": [
    "sen_4q = pd.DataFrame()\n",
    "sen_4q['4th Q Transaction Day Percentage'] = sen_q.nlargest(10, 'n4q_o_c_perc/total_trans')['n4q_o_c_perc/total_trans']\n",
    "sen_4q['total_trans'] = sen_df.senator.value_counts()\n",
    "sen_4q"
   ]
  },
  {
   "cell_type": "code",
   "execution_count": 9,
   "metadata": {},
   "outputs": [
    {
     "data": {
      "text/html": [
       "<div>\n",
       "<style scoped>\n",
       "    .dataframe tbody tr th:only-of-type {\n",
       "        vertical-align: middle;\n",
       "    }\n",
       "\n",
       "    .dataframe tbody tr th {\n",
       "        vertical-align: top;\n",
       "    }\n",
       "\n",
       "    .dataframe thead th {\n",
       "        text-align: right;\n",
       "    }\n",
       "</style>\n",
       "<table border=\"1\" class=\"dataframe\">\n",
       "  <thead>\n",
       "    <tr style=\"text-align: right;\">\n",
       "      <th></th>\n",
       "      <th>4th Q 1 Week Percentage</th>\n",
       "      <th>total_trans</th>\n",
       "    </tr>\n",
       "  </thead>\n",
       "  <tbody>\n",
       "    <tr>\n",
       "      <th>John N Kennedy</th>\n",
       "      <td>1.000000</td>\n",
       "      <td>1</td>\n",
       "    </tr>\n",
       "    <tr>\n",
       "      <th>Joseph Manchin, III</th>\n",
       "      <td>1.000000</td>\n",
       "      <td>1</td>\n",
       "    </tr>\n",
       "    <tr>\n",
       "      <th>Christopher A Coons</th>\n",
       "      <td>0.750000</td>\n",
       "      <td>4</td>\n",
       "    </tr>\n",
       "    <tr>\n",
       "      <th>Ladda Tammy Duckworth</th>\n",
       "      <td>0.666667</td>\n",
       "      <td>3</td>\n",
       "    </tr>\n",
       "    <tr>\n",
       "      <th>Angus S King, Jr.</th>\n",
       "      <td>0.473684</td>\n",
       "      <td>19</td>\n",
       "    </tr>\n",
       "    <tr>\n",
       "      <th>Kelly Loeffler</th>\n",
       "      <td>0.397590</td>\n",
       "      <td>83</td>\n",
       "    </tr>\n",
       "    <tr>\n",
       "      <th>Thomas R Carper</th>\n",
       "      <td>0.338462</td>\n",
       "      <td>65</td>\n",
       "    </tr>\n",
       "    <tr>\n",
       "      <th>William Cassidy</th>\n",
       "      <td>0.328671</td>\n",
       "      <td>143</td>\n",
       "    </tr>\n",
       "    <tr>\n",
       "      <th>David A Perdue , Jr</th>\n",
       "      <td>0.291425</td>\n",
       "      <td>1726</td>\n",
       "    </tr>\n",
       "    <tr>\n",
       "      <th>John Hoeven</th>\n",
       "      <td>0.290909</td>\n",
       "      <td>110</td>\n",
       "    </tr>\n",
       "  </tbody>\n",
       "</table>\n",
       "</div>"
      ],
      "text/plain": [
       "                       4th Q 1 Week Percentage  total_trans\n",
       "John N Kennedy                        1.000000            1\n",
       "Joseph Manchin, III                   1.000000            1\n",
       "Christopher A Coons                   0.750000            4\n",
       "Ladda Tammy Duckworth                 0.666667            3\n",
       "Angus S King, Jr.                     0.473684           19\n",
       "Kelly Loeffler                        0.397590           83\n",
       "Thomas R Carper                       0.338462           65\n",
       "William Cassidy                       0.328671          143\n",
       "David A Perdue , Jr                   0.291425         1726\n",
       "John Hoeven                           0.290909          110"
      ]
     },
     "execution_count": 9,
     "metadata": {},
     "output_type": "execute_result"
    }
   ],
   "source": [
    "sen_4q = pd.DataFrame()\n",
    "sen_4q['4th Q 1 Week Percentage'] = sen_q.nlargest(10, 'n4q_1_Week_o_p/total_trans')['n4q_1_Week_o_p/total_trans']\n",
    "sen_4q['total_trans'] = sen_df.senator.value_counts()\n",
    "sen_4q"
   ]
  },
  {
   "cell_type": "code",
   "execution_count": 10,
   "metadata": {},
   "outputs": [
    {
     "data": {
      "text/html": [
       "<div>\n",
       "<style scoped>\n",
       "    .dataframe tbody tr th:only-of-type {\n",
       "        vertical-align: middle;\n",
       "    }\n",
       "\n",
       "    .dataframe tbody tr th {\n",
       "        vertical-align: top;\n",
       "    }\n",
       "\n",
       "    .dataframe thead th {\n",
       "        text-align: right;\n",
       "    }\n",
       "</style>\n",
       "<table border=\"1\" class=\"dataframe\">\n",
       "  <thead>\n",
       "    <tr style=\"text-align: right;\">\n",
       "      <th></th>\n",
       "      <th>4th Q 1 Month Percentage</th>\n",
       "      <th>total_trans</th>\n",
       "    </tr>\n",
       "  </thead>\n",
       "  <tbody>\n",
       "    <tr>\n",
       "      <th>Benjamin L Cardin</th>\n",
       "      <td>1.000000</td>\n",
       "      <td>1</td>\n",
       "    </tr>\n",
       "    <tr>\n",
       "      <th>Maria Cantwell</th>\n",
       "      <td>1.000000</td>\n",
       "      <td>1</td>\n",
       "    </tr>\n",
       "    <tr>\n",
       "      <th>Kelly Loeffler</th>\n",
       "      <td>0.602410</td>\n",
       "      <td>83</td>\n",
       "    </tr>\n",
       "    <tr>\n",
       "      <th>Angus S King, Jr.</th>\n",
       "      <td>0.526316</td>\n",
       "      <td>19</td>\n",
       "    </tr>\n",
       "    <tr>\n",
       "      <th>Christopher A Coons</th>\n",
       "      <td>0.500000</td>\n",
       "      <td>4</td>\n",
       "    </tr>\n",
       "    <tr>\n",
       "      <th>Daniel S Sullivan</th>\n",
       "      <td>0.352941</td>\n",
       "      <td>17</td>\n",
       "    </tr>\n",
       "    <tr>\n",
       "      <th>David A Perdue , Jr</th>\n",
       "      <td>0.293743</td>\n",
       "      <td>1726</td>\n",
       "    </tr>\n",
       "    <tr>\n",
       "      <th>William Cassidy</th>\n",
       "      <td>0.293706</td>\n",
       "      <td>143</td>\n",
       "    </tr>\n",
       "    <tr>\n",
       "      <th>Pat Roberts</th>\n",
       "      <td>0.289157</td>\n",
       "      <td>249</td>\n",
       "    </tr>\n",
       "    <tr>\n",
       "      <th>Gary C Peters</th>\n",
       "      <td>0.285714</td>\n",
       "      <td>21</td>\n",
       "    </tr>\n",
       "  </tbody>\n",
       "</table>\n",
       "</div>"
      ],
      "text/plain": [
       "                     4th Q 1 Month Percentage  total_trans\n",
       "Benjamin L Cardin                    1.000000            1\n",
       "Maria Cantwell                       1.000000            1\n",
       "Kelly Loeffler                       0.602410           83\n",
       "Angus S King, Jr.                    0.526316           19\n",
       "Christopher A Coons                  0.500000            4\n",
       "Daniel S Sullivan                    0.352941           17\n",
       "David A Perdue , Jr                  0.293743         1726\n",
       "William Cassidy                      0.293706          143\n",
       "Pat Roberts                          0.289157          249\n",
       "Gary C Peters                        0.285714           21"
      ]
     },
     "execution_count": 10,
     "metadata": {},
     "output_type": "execute_result"
    }
   ],
   "source": [
    "sen_4q = pd.DataFrame()\n",
    "sen_4q['4th Q 1 Month Percentage'] = sen_q.nlargest(10, 'n4q_1_Month_o_p/total_trans')['n4q_1_Month_o_p/total_trans']\n",
    "sen_4q['total_trans'] = sen_df.senator.value_counts()\n",
    "sen_4q"
   ]
  },
  {
   "cell_type": "markdown",
   "metadata": {},
   "source": [
    "Examining these 3 tables, we begin to notice names that appear multiple times and who have a high enough transaction count to not be considered lucky. This can be misleading though, as perhaps these senators just make risky trades and we are only looking at their successful trades. Further anaylysis would require looking at 1st quartile trades, trades that do worse than 75 percent of all other trades. <br> Unfortunately, due to time constraints of this project we will not be examining these names further. "
   ]
  },
  {
   "cell_type": "markdown",
   "metadata": {},
   "source": [
    "## Unsupervised Learning"
   ]
  },
  {
   "cell_type": "markdown",
   "metadata": {},
   "source": [
    "With a dataset like this, it is more difficult to use supervised machine learning techniques, as there is no clear response variable. In this secion we will use several unsupervised machine learning methods in an attempt to notice patterns through clustering."
   ]
  },
  {
   "cell_type": "markdown",
   "metadata": {},
   "source": [
    "### Hierarchical Clustering"
   ]
  },
  {
   "cell_type": "markdown",
   "metadata": {},
   "source": [
    "\"Hierarchical clustering is more flexible than K-means and more easily accomodates non-numerical variables. It is more sensitive in discovering outlying or aberrant groups or records... Hierarchical clustering's flexibility comes with a cost, and hierarchical clustering does not scale well to large data sets with millions of records\" - Practical Statistics for Data Scientists"
   ]
  },
  {
   "cell_type": "markdown",
   "metadata": {},
   "source": [
    "In Python, we must convert our string columns to numerical values. Credit for the function below goes to https://pythonprogramming.net/working-with-non-numerical-data-machine-learning-tutorial/"
   ]
  },
  {
   "cell_type": "code",
   "execution_count": 11,
   "metadata": {},
   "outputs": [
    {
     "name": "stderr",
     "output_type": "stream",
     "text": [
      "/anaconda3/lib/python3.7/site-packages/ipykernel_launcher.py:18: FutureWarning: convert_objects is deprecated.  To re-infer data dtypes for object columns, use DataFrame.infer_objects()\n",
      "For all other conversions use the data-type specific converters pd.to_datetime, pd.to_timedelta and pd.to_numeric.\n"
     ]
    }
   ],
   "source": [
    "import scipy.cluster.hierarchy as sch\n",
    "sen_df_UL = pd.DataFrame({\"High\": sen_df.High, \n",
    "                       \"Low\": sen_df.Low, \n",
    "                       \"Open\": sen_df.Open, \n",
    "                       \"Close\": sen_df.Close, \n",
    "                       \"min_amount\": sen_df.min_amount, \n",
    "                       \"max_amount\": sen_df.max_amount, \n",
    "                       \"Volume\": sen_df.Volume,\n",
    "                       \"high_low_day\": sen_df.h_l_perc,\n",
    "                       \"open_close_day\": sen_df.o_c_perc, \n",
    "                       \"open_open_week\": sen_df[\"1_Week_o_p\"], \n",
    "                       \"close_close_week\": sen_df[\"1_Week_c_p\"], \n",
    "                       \"open_open_month\": sen_df[\"1_Month_o_p\"], \n",
    "                       \"close_close_month\": sen_df['1_Month_c_p'], \n",
    "                       \"Owner\": sen_df.owner.astype(object), \n",
    "                       \"Type\": sen_df.type.astype(object), \n",
    "                       \"senator\": sen_df.senator.astype(object)})\n",
    "sen_df_UL.convert_objects(convert_numeric=True)\n",
    "sen_df_UL.fillna(0, inplace=True)\n",
    "\n",
    "def handle_non_numerical_data(df):\n",
    "    columns = df.columns.values\n",
    "    for column in columns:\n",
    "        text_digit_vals = {}\n",
    "        def convert_to_int(val):\n",
    "            return text_digit_vals[val]\n",
    "\n",
    "        if df[column].dtype != np.int64 and df[column].dtype != np.float64:\n",
    "            column_contents = df[column].values.tolist()\n",
    "            unique_elements = set(column_contents)\n",
    "            x = 0\n",
    "            for unique in unique_elements:\n",
    "                if unique not in text_digit_vals:\n",
    "                    text_digit_vals[unique] = x\n",
    "                    x+=1\n",
    "\n",
    "            df[column] = list(map(convert_to_int, df[column]))\n",
    "\n",
    "    return df\n",
    "\n",
    "sen_df_UL = handle_non_numerical_data(sen_df_UL)"
   ]
  },
  {
   "cell_type": "code",
   "execution_count": 12,
   "metadata": {},
   "outputs": [
    {
     "data": {
      "image/png": "[encoded data removed]",
      "text/plain": [
       "<Figure size 432x288 with 1 Axes>"
      ]
     },
     "metadata": {
      "needs_background": "light"
     },
     "output_type": "display_data"
    }
   ],
   "source": [
    "dendrogram = sch.dendrogram(sch.linkage(sen_df_UL, method  = \"ward\"))\n",
    "plt.title('Dendrogram')\n",
    "plt.xlabel('Trades')\n",
    "plt.ylabel('Euclidean distances')\n",
    "plt.show()"
   ]
  },
  {
   "cell_type": "markdown",
   "metadata": {},
   "source": [
    "From the dendrogram, using the ward method that minimizes varience between clusters, we can select our number of clusters. The vertical distances represent the distance/variance between clusters and in order to capture the strongest divide, we will set a threshold in a way that cuts the tallest vertical line. Marking it near the bottom of the left blue line, this will give us 3 clusters."
   ]
  },
  {
   "cell_type": "code",
   "execution_count": 13,
   "metadata": {},
   "outputs": [
    {
     "data": {
      "text/plain": [
       "array([1, 1, 1, ..., 1, 2, 0])"
      ]
     },
     "execution_count": 13,
     "metadata": {},
     "output_type": "execute_result"
    }
   ],
   "source": [
    "from sklearn.cluster import AgglomerativeClustering\n",
    "cluster = AgglomerativeClustering(n_clusters=3, affinity='euclidean', linkage='ward')  \n",
    "cluster.fit_predict(sen_df_UL)"
   ]
  },
  {
   "cell_type": "code",
   "execution_count": 14,
   "metadata": {},
   "outputs": [
    {
     "data": {
      "text/plain": [
       "<matplotlib.collections.PathCollection at 0x1a336dc6d8>"
      ]
     },
     "execution_count": 14,
     "metadata": {},
     "output_type": "execute_result"
    },
    {
     "data": {
      "image/png": "[encoded data removed]",
      "text/plain": [
       "<Figure size 432x288 with 1 Axes>"
      ]
     },
     "metadata": {
      "needs_background": "light"
     },
     "output_type": "display_data"
    }
   ],
   "source": [
    "plt.scatter(sen_df_UL[\"open_open_week\"], sen_df_UL[\"open_open_month\"], c=cluster.labels_, s= 8)"
   ]
  },
  {
   "cell_type": "markdown",
   "metadata": {},
   "source": [
    "### Isolation Forest"
   ]
  },
  {
   "cell_type": "markdown",
   "metadata": {},
   "source": [
    "\"Isolation Forest is an unsupervised learning algorithm that belongs to the ensemble decision trees family. This approach is different from all previous methods. All the previous ones were trying to find the normal region of the data then identifies anything outside of this defined region to be an outlier or anomalous."
   ]
  },
  {
   "cell_type": "markdown",
   "metadata": {},
   "source": [
    "This method works differently. It explicitly isolates anomalies instead of profiling and constructing normal points and regions by assigning a score to each data point. It takes advantage of the fact that anomalies are the minority data points and that they have attribute-values that are very different from those of normal instances. This algorithm works great with very high dimensional datasets and it proved to be a very effective way of detecting anomalies.\" - __[Will Badr, Sr. AI/ML Specialist @ Amazon Web Service](https://towardsdatascience.com/5-ways-to-detect-outliers-that-every-data-scientist-should-know-python-code-70a54335a623)__"
   ]
  },
  {
   "cell_type": "markdown",
   "metadata": {},
   "source": [
    "In this section we will just use the numerical columns. From this though, we can also create a covariance matrix!"
   ]
  },
  {
   "cell_type": "code",
   "execution_count": 15,
   "metadata": {},
   "outputs": [
    {
     "data": {
      "text/html": [
       "<div>\n",
       "<style scoped>\n",
       "    .dataframe tbody tr th:only-of-type {\n",
       "        vertical-align: middle;\n",
       "    }\n",
       "\n",
       "    .dataframe tbody tr th {\n",
       "        vertical-align: top;\n",
       "    }\n",
       "\n",
       "    .dataframe thead th {\n",
       "        text-align: right;\n",
       "    }\n",
       "</style>\n",
       "<table border=\"1\" class=\"dataframe\">\n",
       "  <thead>\n",
       "    <tr style=\"text-align: right;\">\n",
       "      <th></th>\n",
       "      <th>sus_trades</th>\n",
       "      <th>total_transactions</th>\n",
       "      <th>sus_trans/total_trans</th>\n",
       "    </tr>\n",
       "    <tr>\n",
       "      <th>Senators with trades marked as outliers</th>\n",
       "      <th></th>\n",
       "      <th></th>\n",
       "      <th></th>\n",
       "    </tr>\n",
       "  </thead>\n",
       "  <tbody>\n",
       "    <tr>\n",
       "      <th>David A Perdue , Jr</th>\n",
       "      <td>125</td>\n",
       "      <td>1726</td>\n",
       "      <td>0.072422</td>\n",
       "    </tr>\n",
       "    <tr>\n",
       "      <th>Pat Roberts</th>\n",
       "      <td>47</td>\n",
       "      <td>249</td>\n",
       "      <td>0.188755</td>\n",
       "    </tr>\n",
       "    <tr>\n",
       "      <th>Kelly Loeffler</th>\n",
       "      <td>46</td>\n",
       "      <td>83</td>\n",
       "      <td>0.554217</td>\n",
       "    </tr>\n",
       "    <tr>\n",
       "      <th>Sheldon Whitehouse</th>\n",
       "      <td>34</td>\n",
       "      <td>524</td>\n",
       "      <td>0.064885</td>\n",
       "    </tr>\n",
       "    <tr>\n",
       "      <th>James M Inhofe</th>\n",
       "      <td>28</td>\n",
       "      <td>162</td>\n",
       "      <td>0.172840</td>\n",
       "    </tr>\n",
       "    <tr>\n",
       "      <th>Susan M Collins</th>\n",
       "      <td>23</td>\n",
       "      <td>389</td>\n",
       "      <td>0.059126</td>\n",
       "    </tr>\n",
       "    <tr>\n",
       "      <th>John Hoeven</th>\n",
       "      <td>14</td>\n",
       "      <td>110</td>\n",
       "      <td>0.127273</td>\n",
       "    </tr>\n",
       "    <tr>\n",
       "      <th>Patrick J Toomey</th>\n",
       "      <td>10</td>\n",
       "      <td>136</td>\n",
       "      <td>0.073529</td>\n",
       "    </tr>\n",
       "    <tr>\n",
       "      <th>Shelley M Capito</th>\n",
       "      <td>8</td>\n",
       "      <td>368</td>\n",
       "      <td>0.021739</td>\n",
       "    </tr>\n",
       "    <tr>\n",
       "      <th>Jerry Moran,</th>\n",
       "      <td>6</td>\n",
       "      <td>87</td>\n",
       "      <td>0.068966</td>\n",
       "    </tr>\n",
       "  </tbody>\n",
       "</table>\n",
       "</div>"
      ],
      "text/plain": [
       "                                         sus_trades  total_transactions  \\\n",
       "Senators with trades marked as outliers                                   \n",
       "David A Perdue , Jr                             125                1726   \n",
       "Pat Roberts                                      47                 249   \n",
       "Kelly Loeffler                                   46                  83   \n",
       "Sheldon Whitehouse                               34                 524   \n",
       "James M Inhofe                                   28                 162   \n",
       "Susan M Collins                                  23                 389   \n",
       "John Hoeven                                      14                 110   \n",
       "Patrick J Toomey                                 10                 136   \n",
       "Shelley M Capito                                  8                 368   \n",
       "Jerry Moran,                                      6                  87   \n",
       "\n",
       "                                         sus_trans/total_trans  \n",
       "Senators with trades marked as outliers                         \n",
       "David A Perdue , Jr                                   0.072422  \n",
       "Pat Roberts                                           0.188755  \n",
       "Kelly Loeffler                                        0.554217  \n",
       "Sheldon Whitehouse                                    0.064885  \n",
       "James M Inhofe                                        0.172840  \n",
       "Susan M Collins                                       0.059126  \n",
       "John Hoeven                                           0.127273  \n",
       "Patrick J Toomey                                      0.073529  \n",
       "Shelley M Capito                                      0.021739  \n",
       "Jerry Moran,                                          0.068966  "
      ]
     },
     "execution_count": 15,
     "metadata": {},
     "output_type": "execute_result"
    }
   ],
   "source": [
    "\n",
    "iso_df = pd.DataFrame({\"High\": sen_df.High.astype(float), \n",
    "                       \"Low\": sen_df.Low.astype(float), \n",
    "                       \"Open\": sen_df.Open.astype(float), \n",
    "                       \"Close\": sen_df.Close.astype(float), \n",
    "                       \"min_amount\": sen_df.min_amount.astype(float), \n",
    "                       \"max_amount\": sen_df.max_amount.astype(float), \n",
    "                       \"Volume\": sen_df.Volume.astype(float),\n",
    "                       \"high_low_day\": sen_df.h_l_perc.astype(float),\n",
    "                       \"open_close_day\": sen_df.o_c_perc.astype(float), \n",
    "                       \"open_open_week\": sen_df[\"1_Week_o_p\"].astype(float), \n",
    "                       \"close_close_week\": sen_df[\"1_Week_c_p\"].astype(float), \n",
    "                       \"open_open_month\": sen_df[\"1_Month_o_p\"].astype(float), \n",
    "                       \"close_close_month\": sen_df['1_Month_c_p'].astype(float)})\n",
    "\n",
    "clf = IsolationForest(behaviour= 'new', max_samples=100, random_state = 1, contamination= 'auto')\n",
    "preds = clf.fit_predict(iso_df)\n",
    "sen_df['Iso_score'] = preds\n",
    "sus_sen = sen_df[sen_df.Iso_score == -1]\n",
    "sus_sen.senator.value_counts()\n",
    "\n",
    "sen_sus_count = pd.DataFrame({'sus_trades': sus_sen.senator.value_counts()})\n",
    "sen_sus_count.index.name = 'Senators with trades marked as outliers'\n",
    "sen_sus_count['total_transactions'] = sen_df.senator.value_counts()\n",
    "sen_sus_count['sus_trans/total_trans'] = sen_sus_count['sus_trades']/sen_sus_count['total_transactions']\n",
    "sen_sus_count.style.format({'sus_trans/total_trans': '{:,.2f}'.format})\n",
    "sen_sus_count.head(10)"
   ]
  },
  {
   "cell_type": "markdown",
   "metadata": {},
   "source": [
    "### Correlation Matrix and Dendrogram Heatmap"
   ]
  },
  {
   "cell_type": "code",
   "execution_count": 16,
   "metadata": {
    "scrolled": false
   },
   "outputs": [
    {
     "data": {
      "image/png": "[encoded data removed]",
      "text/plain": [
       "<Figure size 432x288 with 2 Axes>"
      ]
     },
     "metadata": {
      "needs_background": "light"
     },
     "output_type": "display_data"
    }
   ],
   "source": [
    "corr = iso_df.corr()\n",
    "ax = sns.heatmap(\n",
    "    corr, \n",
    "    vmin=-1, vmax=1, center=0,\n",
    "    cmap=sns.diverging_palette(20, 220, n=200),\n",
    "    square=True\n",
    ")\n",
    "ax.set_xticklabels(\n",
    "    ax.get_xticklabels(),\n",
    "    rotation=45,\n",
    "    horizontalalignment='right'\n",
    ");"
   ]
  },
  {
   "cell_type": "markdown",
   "metadata": {},
   "source": [
    "Not very useful is it... However perhaps subsetting some of the data and using our dendrogram again will be more visually helpful."
   ]
  },
  {
   "cell_type": "code",
   "execution_count": 17,
   "metadata": {},
   "outputs": [
    {
     "data": {
      "text/plain": [
       "<seaborn.matrix.ClusterGrid at 0x1a26e703c8>"
      ]
     },
     "execution_count": 17,
     "metadata": {},
     "output_type": "execute_result"
    },
    {
     "data": {
      "image/png": "[encoded data removed]",
      "text/plain": [
       "<Figure size 720x720 with 4 Axes>"
      ]
     },
     "metadata": {
      "needs_background": "light"
     },
     "output_type": "display_data"
    }
   ],
   "source": [
    "iso_df['senator'] = sen_df['senator']\n",
    "iso_df['senator'] = sen_df['senator']\n",
    "iso_df = iso_df.set_index('senator')\n",
    "iso_df_sample = iso_df.sample(n=250, random_state=42)\n",
    "#my_palette = dict(zip(iso_df..unique(), [\"orange\",\"yellow\",\"brown\"]))\n",
    "#row_colors = df.cyl.map(my_palette)\n",
    "sns.clustermap(iso_df_sample, metric=\"correlation\", method=\"single\", cmap=\"Blues\", standard_scale=1)"
   ]
  }
 ],
 "metadata": {
  "kernelspec": {
   "display_name": "Python 3",
   "language": "python",
   "name": "python3"
  },
  "language_info": {
   "codemirror_mode": {
    "name": "ipython",
    "version": 3
   },
   "file_extension": ".py",
   "mimetype": "text/x-python",
   "name": "python",
   "nbconvert_exporter": "python",
   "pygments_lexer": "ipython3",
   "version": "3.7.3"
  }
 },
 "nbformat": 4,
 "nbformat_minor": 2
}
